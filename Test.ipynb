{
 "cells": [
  {
   "cell_type": "code",
   "execution_count": 47,
   "metadata": {},
   "outputs": [],
   "source": [
    "import MDAnalysis as mda\n",
    "from MDAnalysis.analysis import align\n",
    "import prolif as plf\n",
    "from rdkit import Chem\n",
    "from prolif.fingerprint import Fingerprint\n",
    "import pandas as pd\n",
    "import matplotlib.pyplot as plt\n",
    "from prolif.plotting.network import LigNetwork\n"
   ]
  },
  {
   "cell_type": "code",
   "execution_count": 48,
   "metadata": {},
   "outputs": [],
   "source": [
    "u = mda.Universe('stripped.addWAT.top', 'autoim_summd_complex_md100.mdcrd')"
   ]
  },
  {
   "cell_type": "code",
   "execution_count": 49,
   "metadata": {},
   "outputs": [],
   "source": [
    "protein = u.select_atoms('protein')\n",
    "ligand = u.select_atoms('resname LQQ')"
   ]
  },
  {
   "cell_type": "code",
   "execution_count": 50,
   "metadata": {},
   "outputs": [
    {
     "name": "stderr",
     "output_type": "stream",
     "text": [
      "/Library/Frameworks/Python.framework/Versions/3.12/lib/python3.12/site-packages/MDAnalysis/core/universe.py:658: UserWarning: Reader has no dt information, set to 1.0 ps\n",
      "  dt=self.trajectory.ts.dt * step,\n"
     ]
    },
    {
     "data": {
      "text/plain": [
       "<MDAnalysis.analysis.align.AlignTraj at 0x122df2060>"
      ]
     },
     "execution_count": 50,
     "metadata": {},
     "output_type": "execute_result"
    }
   ],
   "source": [
    "ref = mda.Universe('stripped.addWAT.top', 'autoim_summd_complex_md100.mdcrd')\n",
    "ref.trajectory[0]  # Set the first frame as reference\n",
    "aligner = align.AlignTraj(u, ref, select='protein', in_memory=True)\n",
    "aligner.run()"
   ]
  },
  {
   "cell_type": "code",
   "execution_count": 51,
   "metadata": {},
   "outputs": [
    {
     "name": "stdout",
     "output_type": "stream",
     "text": [
      "<prolif.fingerprint.Fingerprint: 9 interactions: ['Hydrophobic', 'HBAcceptor', 'HBDonor', 'Cationic', 'Anionic', 'CationPi', 'PiCation', 'PiStacking', 'VdWContact'] at 0x126741df0>\n"
     ]
    }
   ],
   "source": [
    "fp = plf.Fingerprint()\n",
    "print(fp)"
   ]
  },
  {
   "cell_type": "code",
   "execution_count": 52,
   "metadata": {},
   "outputs": [],
   "source": [
    "interaction_results = {}"
   ]
  },
  {
   "cell_type": "code",
   "execution_count": 53,
   "metadata": {},
   "outputs": [
    {
     "ename": "TypeError",
     "evalue": "Fingerprint.run() missing 1 required positional argument: 'prot'",
     "output_type": "error",
     "traceback": [
      "\u001b[0;31m---------------------------------------------------------------------------\u001b[0m",
      "\u001b[0;31mTypeError\u001b[0m                                 Traceback (most recent call last)",
      "Cell \u001b[0;32mIn[53], line 3\u001b[0m\n\u001b[1;32m      1\u001b[0m \u001b[38;5;28;01mfor\u001b[39;00m ts \u001b[38;5;129;01min\u001b[39;00m u\u001b[38;5;241m.\u001b[39mtrajectory:\n\u001b[1;32m      2\u001b[0m     frame_idx \u001b[38;5;241m=\u001b[39m ts\u001b[38;5;241m.\u001b[39mframe\n\u001b[0;32m----> 3\u001b[0m     fp_results \u001b[38;5;241m=\u001b[39m \u001b[43mfp\u001b[49m\u001b[38;5;241;43m.\u001b[39;49m\u001b[43mrun\u001b[49m\u001b[43m(\u001b[49m\u001b[43mligand\u001b[49m\u001b[43m,\u001b[49m\u001b[43m \u001b[49m\u001b[43mprotein\u001b[49m\u001b[43m)\u001b[49m  \u001b[38;5;66;03m# Compute interactions for this frame\u001b[39;00m\n\u001b[1;32m      4\u001b[0m     interaction_results[frame_idx] \u001b[38;5;241m=\u001b[39m fp_results\u001b[38;5;241m.\u001b[39mto_dict()  \u001b[38;5;66;03m# Store results as a dictionary\u001b[39;00m\n",
      "\u001b[0;31mTypeError\u001b[0m: Fingerprint.run() missing 1 required positional argument: 'prot'"
     ]
    }
   ],
   "source": [
    "for ts in u.trajectory:\n",
    "    frame_idx = ts.frame\n",
    "    fp_results = fp.run(ligand, protein)  # Compute interactions for this frame\n",
    "    interaction_results[frame_idx] = fp_results.to_dict()  # Store results as a dictionary"
   ]
  }
 ],
 "metadata": {
  "kernelspec": {
   "display_name": "Python 3",
   "language": "python",
   "name": "python3"
  },
  "language_info": {
   "codemirror_mode": {
    "name": "ipython",
    "version": 3
   },
   "file_extension": ".py",
   "mimetype": "text/x-python",
   "name": "python",
   "nbconvert_exporter": "python",
   "pygments_lexer": "ipython3",
   "version": "3.12.4"
  }
 },
 "nbformat": 4,
 "nbformat_minor": 2
}
